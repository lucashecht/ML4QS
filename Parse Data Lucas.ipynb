{
 "cells": [
  {
   "cell_type": "code",
   "execution_count": null,
   "id": "7dfa5627",
   "metadata": {},
   "outputs": [],
   "source": [
    "import numpy as np\n",
    "import pandas as pd\n",
    "from statistics import mean\n",
    "import matplotlib as mpl\n",
    "import matplotlib.pyplot as plt\n",
    "import os"
   ]
  },
  {
   "cell_type": "code",
   "execution_count": null,
   "id": "6fea6c3e",
   "metadata": {},
   "outputs": [],
   "source": [
    "import xml.etree.ElementTree as ET\n",
    "import re\n",
    "from datetime import datetime\n",
    "\n",
    "def readtcx(path):\n",
    "    # Function to parse heart rate data from .tcx files my Garmin produces\n",
    "    # Returns DataFrame with 'time' and 'hr' columns\n",
    "    \n",
    "    heartrate_data = []\n",
    "    with open(path) as xml_file:\n",
    "        xml_str = xml_file.read()\n",
    "        xml_str = re.sub(' xmlns=\"[^\"]+\"', '', xml_str, count=1)\n",
    "        root = ET.fromstring(xml_str)\n",
    "        activities = root.findall('.//Activity')\n",
    "        for activity in activities:\n",
    "            tracking_points = activity.findall('.//Trackpoint')\n",
    "            for tracking_point in list(tracking_points):\n",
    "                children = list(tracking_point)\n",
    "                time = datetime.strptime(children[0].text, '%Y-%m-%dT%H:%M:%S.%fZ')\n",
    "                hr = list(tracking_point.find('HeartRateBpm'))[0].text\n",
    "                heartrate_data.append([time, hr])\n",
    "    df = pd.DataFrame(heartrate_data, columns=['time', 'hr'])\n",
    "    #df['time'] = pd.to_datetime(df['time'], unit='s')\n",
    "    return df"
   ]
  },
  {
   "cell_type": "code",
   "execution_count": null,
   "id": "1f3d0136",
   "metadata": {},
   "outputs": [],
   "source": [
    "heartrate_data = readtcx(\"../data/Lucas/walking1/walking1.tcx\")\n",
    "heartrate_data"
   ]
  },
  {
   "cell_type": "code",
   "execution_count": null,
   "id": "5424e24f",
   "metadata": {},
   "outputs": [],
   "source": [
    "def time_diff(df):\n",
    "    res = []\n",
    "    for i in range(len(df[\"Time (s)\"]) - 1):\n",
    "        val1 = df[\"Time (s)\"][i]\n",
    "        val2 = df[\"Time (s)\"][i + 1]\n",
    "        \n",
    "        res.append(val2 - val1)\n",
    "    return mean(res)\n",
    "\n",
    "def read_phyphox(parent_dir):\n",
    "    acc = pd.read_csv(os.path.join(parent_dir, \"Accelerometer.csv\"))\n",
    "    gyro = pd.read_csv(os.path.join(parent_dir, \"Gyroscope.csv\"))\n",
    "    loc = pd.read_csv(os.path.join(parent_dir, \"Location.csv\"))\n",
    "        \n",
    "    data_len = min(len(acc), len(gyro))\n",
    "    acc = acc[0:data_len]\n",
    "    gyro = gyro[0:data_len]\n",
    "        \n",
    "    time_step = mean([time_diff(acc), time_diff(gyro)])\n",
    "    \n",
    "    for i in range(data_len):\n",
    "        time = time_step * i\n",
    "        acc[\"Time (s)\"][i] = time\n",
    "        gyro[\"Time (s)\"][i] = time\n",
    "    \n",
    "    acc.set_index('Time (s)', inplace=True)\n",
    "    gyro.set_index('Time (s)', inplace=True)\n",
    "    loc.set_index('Time (s)', inplace=True)\n",
    "        \n",
    "            \n",
    "    merged = acc.join(gyro, how=\"outer\")\n",
    "    merged = pd.concat([merged, loc]).sort_index().interpolate()\n",
    "    \n",
    "    # Rename columns\n",
    "    merged.index.names = [\"time\"]\n",
    "    merged.rename(inplace=True, columns={\n",
    "        \"Acceleration x (m/s^2)\": \"acceleration_x\",\n",
    "        \"Acceleration y (m/s^2)\": \"acceleration_y\",\n",
    "        \"Acceleration z (m/s^2)\": \"acceleration_z\",\n",
    "        \"Gyroscope x (rad/s)\": \"gyroscope_x\",\n",
    "        \"Gyroscope y (rad/s)\": \"gyroscope_y\",\n",
    "        \"Gyroscope z (rad/s)\": \"gyroscope_z\",\n",
    "        \"Latitude (°)\": \"latitude\",\n",
    "        \"Longitude (°)\": \"longitude\",\n",
    "        \"Height (m)\": \"height\",\n",
    "        \"Velocity (m/s)\": \"velocity\",\n",
    "        \"Direction (°)\": \"direction\",\n",
    "        \"Horizontal Accuracy (m)\": \"h_accuracy\",\n",
    "        \"Vertical Accuracy (m)\": \"v_accuracy\",\n",
    "\n",
    "    })\n",
    "    merged = merged.dropna()\n",
    "    \n",
    "    time_df = pd.read_csv(os.path.join(parent_dir, \"meta\", \"time.csv\"))\n",
    "    start_time = time_df.loc[time_df[\"event\"] == \"START\"][\"system time\"][0]\n",
    "    \n",
    "    merged.reset_index(inplace=True)\n",
    "    merged['time'] = pd.to_datetime(merged['time'] + start_time,unit='s')\n",
    "    return merged"
   ]
  },
  {
   "cell_type": "code",
   "execution_count": null,
   "id": "eed7b9f0",
   "metadata": {},
   "outputs": [],
   "source": [
    "def read_combined(path_pp, path_tcx):\n",
    "    pp = read_phyphox(path_pp)\n",
    "    hr = readtcx(path_tcx)\n",
    "    \n",
    "    pp[\"hr\"] = np.nan\n",
    "    \n",
    "    \n",
    "    # Finds the time intervals of the heart rate measurements and update the phyphox heart rate accordingly\n",
    "    # This is done as samsung measurements are not very fine grained and only give use relatively large\n",
    "    # time intervals\n",
    "    for i in range(len(hr) - 1):\n",
    "        row1 = hr.iloc[i]\n",
    "        row2 = hr.iloc[i + 1]\n",
    "        # Time parsed from tcx is of type Timestampt and needs to be cast to datetime64\n",
    "        pp.loc[(pp[\"time\"] >= row1[\"time\"].to_datetime64()) & (pp[\"time\"] < row2[\"time\"].to_datetime64()), \"hr\"] = row1[\"hr\"]\n",
    "    \n",
    "    # remove data point without overlap in time\n",
    "    return pp.dropna()"
   ]
  },
  {
   "cell_type": "markdown",
   "id": "393ccec6",
   "metadata": {},
   "source": [
    "Column names of `time` and `hr` might need to be adjusted to fit with Alessandros data"
   ]
  },
  {
   "cell_type": "code",
   "execution_count": null,
   "id": "ffcb0b17",
   "metadata": {},
   "outputs": [],
   "source": [
    "df = read_combined(\"../data/Lucas/walking1/\", \"../data/Lucas/walking1/walking1.tcx\")\n",
    "df"
   ]
  }
 ],
 "metadata": {
  "kernelspec": {
   "display_name": "condaenv",
   "language": "python",
   "name": "condaenv"
  },
  "language_info": {
   "codemirror_mode": {
    "name": "ipython",
    "version": 3
   },
   "file_extension": ".py",
   "mimetype": "text/x-python",
   "name": "python",
   "nbconvert_exporter": "python",
   "pygments_lexer": "ipython3",
   "version": "3.8.8"
  }
 },
 "nbformat": 4,
 "nbformat_minor": 5
}
